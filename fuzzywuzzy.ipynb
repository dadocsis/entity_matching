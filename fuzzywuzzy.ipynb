{
 "cells": [
  {
   "cell_type": "code",
   "execution_count": 2,
   "metadata": {
    "ExecuteTime": {
     "end_time": "2019-06-28T20:05:21.735008Z",
     "start_time": "2019-06-28T20:05:19.716152Z"
    }
   },
   "outputs": [],
   "source": [
    "from fuzzywuzzy import fuzz\n",
    "import pandas as pd "
   ]
  },
  {
   "cell_type": "code",
   "execution_count": 3,
   "metadata": {
    "ExecuteTime": {
     "end_time": "2019-06-28T20:05:21.815594Z",
     "start_time": "2019-06-28T20:05:21.738574Z"
    }
   },
   "outputs": [
    {
     "data": {
      "text/html": [
       "<div>\n",
       "<style scoped>\n",
       "    .dataframe tbody tr th:only-of-type {\n",
       "        vertical-align: middle;\n",
       "    }\n",
       "\n",
       "    .dataframe tbody tr th {\n",
       "        vertical-align: top;\n",
       "    }\n",
       "\n",
       "    .dataframe thead th {\n",
       "        text-align: right;\n",
       "    }\n",
       "</style>\n",
       "<table border=\"1\" class=\"dataframe\">\n",
       "  <thead>\n",
       "    <tr style=\"text-align: right;\">\n",
       "      <th></th>\n",
       "      <th>DB_ID</th>\n",
       "      <th>Name</th>\n",
       "      <th>Blck_List</th>\n",
       "    </tr>\n",
       "  </thead>\n",
       "  <tbody>\n",
       "    <tr>\n",
       "      <th>0</th>\n",
       "      <td>14173</td>\n",
       "      <td>ALVAREZ CARLOS</td>\n",
       "      <td>0</td>\n",
       "    </tr>\n",
       "    <tr>\n",
       "      <th>1</th>\n",
       "      <td>14174</td>\n",
       "      <td>TARANTOLA SALVATORE</td>\n",
       "      <td>0</td>\n",
       "    </tr>\n",
       "    <tr>\n",
       "      <th>2</th>\n",
       "      <td>14175</td>\n",
       "      <td>HOME DEVCO TIVOLI ISLES LLC</td>\n",
       "      <td>1</td>\n",
       "    </tr>\n",
       "    <tr>\n",
       "      <th>3</th>\n",
       "      <td>14176</td>\n",
       "      <td>LEVIN MICHAEL</td>\n",
       "      <td>0</td>\n",
       "    </tr>\n",
       "    <tr>\n",
       "      <th>4</th>\n",
       "      <td>14177</td>\n",
       "      <td>ROSS NICHOLAS J</td>\n",
       "      <td>0</td>\n",
       "    </tr>\n",
       "  </tbody>\n",
       "</table>\n",
       "</div>"
      ],
      "text/plain": [
       "   DB_ID                         Name  Blck_List\n",
       "0  14173               ALVAREZ CARLOS          0\n",
       "1  14174          TARANTOLA SALVATORE          0\n",
       "2  14175  HOME DEVCO TIVOLI ISLES LLC          1\n",
       "3  14176                LEVIN MICHAEL          0\n",
       "4  14177              ROSS NICHOLAS J          0"
      ]
     },
     "execution_count": 3,
     "metadata": {},
     "output_type": "execute_result"
    }
   ],
   "source": [
    "ent_df = pd.read_csv('entity.csv')\n",
    "ent_df.head()"
   ]
  },
  {
   "cell_type": "markdown",
   "metadata": {
    "ExecuteTime": {
     "end_time": "2019-06-27T16:31:05.338048Z",
     "start_time": "2019-06-27T16:31:05.259500Z"
    }
   },
   "source": [
    "This code was used to find most commont word tokens.  \n",
    "I used this to build an ignore list where I am filtering out common  \n",
    "words to describe a business. IE  Corp, Inc, Co\n",
    "\n",
    "```python\n",
    "from collections import Counter\n",
    "ent_counter = Counter()\n",
    "for names in ent_df['Name'].str.split():\n",
    "    ent_counter.update(names)\n",
    "with open('common.csv', mode='w') as f:\n",
    "    print(\"Name, count\", file=f)\n",
    "    for c in  ent_counter.most_common(100):\n",
    "        print(f'{c[0]},{c[1]}', file=f)\n",
    "```"
   ]
  },
  {
   "cell_type": "code",
   "execution_count": 4,
   "metadata": {
    "ExecuteTime": {
     "end_time": "2019-06-28T20:05:24.790187Z",
     "start_time": "2019-06-28T20:05:24.780202Z"
    }
   },
   "outputs": [],
   "source": [
    "ignore = pd.read_csv('common.csv')\n",
    "ignore_list = ignore['Name'].to_list()"
   ]
  },
  {
   "cell_type": "code",
   "execution_count": 5,
   "metadata": {
    "ExecuteTime": {
     "end_time": "2019-06-28T20:05:25.734627Z",
     "start_time": "2019-06-28T20:05:25.683550Z"
    }
   },
   "outputs": [],
   "source": [
    "def clean(e):\n",
    "    return all([t not in ignore_list for t in e.split()])\n",
    "\n",
    "ent_df_clean = ent_df[ent_df['Name'].map(clean)].copy()\n",
    "# creating a new pf object not ref"
   ]
  },
  {
   "cell_type": "code",
   "execution_count": 6,
   "metadata": {
    "ExecuteTime": {
     "end_time": "2019-06-28T20:05:26.272516Z",
     "start_time": "2019-06-28T20:05:26.251516Z"
    }
   },
   "outputs": [
    {
     "name": "stdout",
     "output_type": "stream",
     "text": [
      "counts: original -> 17187 cleaned -> 13865\n"
     ]
    }
   ],
   "source": [
    "print(f'counts: original -> {len(ent_df)} cleaned -> {len(ent_df_clean)}')"
   ]
  },
  {
   "cell_type": "code",
   "execution_count": 7,
   "metadata": {
    "ExecuteTime": {
     "end_time": "2019-06-28T20:05:27.646654Z",
     "start_time": "2019-06-28T20:05:27.604656Z"
    }
   },
   "outputs": [
    {
     "data": {
      "text/html": [
       "<div>\n",
       "<style scoped>\n",
       "    .dataframe tbody tr th:only-of-type {\n",
       "        vertical-align: middle;\n",
       "    }\n",
       "\n",
       "    .dataframe tbody tr th {\n",
       "        vertical-align: top;\n",
       "    }\n",
       "\n",
       "    .dataframe thead th {\n",
       "        text-align: right;\n",
       "    }\n",
       "</style>\n",
       "<table border=\"1\" class=\"dataframe\">\n",
       "  <thead>\n",
       "    <tr style=\"text-align: right;\">\n",
       "      <th></th>\n",
       "      <th>DB_ID</th>\n",
       "      <th>Name</th>\n",
       "      <th>Blck_List</th>\n",
       "      <th>token_count</th>\n",
       "    </tr>\n",
       "  </thead>\n",
       "  <tbody>\n",
       "    <tr>\n",
       "      <th>0</th>\n",
       "      <td>14173</td>\n",
       "      <td>ALVAREZ CARLOS</td>\n",
       "      <td>0</td>\n",
       "      <td>2</td>\n",
       "    </tr>\n",
       "    <tr>\n",
       "      <th>1</th>\n",
       "      <td>14174</td>\n",
       "      <td>TARANTOLA SALVATORE</td>\n",
       "      <td>0</td>\n",
       "      <td>2</td>\n",
       "    </tr>\n",
       "    <tr>\n",
       "      <th>3</th>\n",
       "      <td>14176</td>\n",
       "      <td>LEVIN MICHAEL</td>\n",
       "      <td>0</td>\n",
       "      <td>2</td>\n",
       "    </tr>\n",
       "    <tr>\n",
       "      <th>4</th>\n",
       "      <td>14177</td>\n",
       "      <td>ROSS NICHOLAS J</td>\n",
       "      <td>0</td>\n",
       "      <td>3</td>\n",
       "    </tr>\n",
       "    <tr>\n",
       "      <th>5</th>\n",
       "      <td>14178</td>\n",
       "      <td>PISCATELLI ALAN</td>\n",
       "      <td>0</td>\n",
       "      <td>2</td>\n",
       "    </tr>\n",
       "    <tr>\n",
       "      <th>6</th>\n",
       "      <td>14179</td>\n",
       "      <td>SCHNEIDER ROBERT</td>\n",
       "      <td>0</td>\n",
       "      <td>2</td>\n",
       "    </tr>\n",
       "    <tr>\n",
       "      <th>7</th>\n",
       "      <td>14180</td>\n",
       "      <td>FOBBS RAMONA A</td>\n",
       "      <td>0</td>\n",
       "      <td>3</td>\n",
       "    </tr>\n",
       "    <tr>\n",
       "      <th>8</th>\n",
       "      <td>14181</td>\n",
       "      <td>KELLER FRED ESTATE,SHEPHERD DANIEL J PERSONAL ...</td>\n",
       "      <td>1</td>\n",
       "      <td>7</td>\n",
       "    </tr>\n",
       "    <tr>\n",
       "      <th>9</th>\n",
       "      <td>14182</td>\n",
       "      <td>SHEPHERD DANIEL J PERSONAL REPRESENTATIVE,KELL...</td>\n",
       "      <td>1</td>\n",
       "      <td>7</td>\n",
       "    </tr>\n",
       "    <tr>\n",
       "      <th>10</th>\n",
       "      <td>14183</td>\n",
       "      <td>MICHEL JEANTRAL</td>\n",
       "      <td>0</td>\n",
       "      <td>2</td>\n",
       "    </tr>\n",
       "  </tbody>\n",
       "</table>\n",
       "</div>"
      ],
      "text/plain": [
       "    DB_ID                                               Name  Blck_List  \\\n",
       "0   14173                                     ALVAREZ CARLOS          0   \n",
       "1   14174                                TARANTOLA SALVATORE          0   \n",
       "3   14176                                      LEVIN MICHAEL          0   \n",
       "4   14177                                    ROSS NICHOLAS J          0   \n",
       "5   14178                                    PISCATELLI ALAN          0   \n",
       "6   14179                                   SCHNEIDER ROBERT          0   \n",
       "7   14180                                     FOBBS RAMONA A          0   \n",
       "8   14181  KELLER FRED ESTATE,SHEPHERD DANIEL J PERSONAL ...          1   \n",
       "9   14182  SHEPHERD DANIEL J PERSONAL REPRESENTATIVE,KELL...          1   \n",
       "10  14183                                    MICHEL JEANTRAL          0   \n",
       "\n",
       "    token_count  \n",
       "0             2  \n",
       "1             2  \n",
       "3             2  \n",
       "4             3  \n",
       "5             2  \n",
       "6             2  \n",
       "7             3  \n",
       "8             7  \n",
       "9             7  \n",
       "10            2  "
      ]
     },
     "execution_count": 7,
     "metadata": {},
     "output_type": "execute_result"
    }
   ],
   "source": [
    "ent_df_clean['token_count'] = ent_df_clean['Name'].str.split().str.len()\n",
    "ent_df_clean.head(10)"
   ]
  },
  {
   "cell_type": "code",
   "execution_count": 8,
   "metadata": {
    "ExecuteTime": {
     "end_time": "2019-06-28T20:05:29.125860Z",
     "start_time": "2019-06-28T20:05:29.106859Z"
    }
   },
   "outputs": [],
   "source": [
    "groups = ent_df_clean.groupby('token_count').groups"
   ]
  },
  {
   "cell_type": "code",
   "execution_count": 9,
   "metadata": {
    "ExecuteTime": {
     "end_time": "2019-06-28T20:05:29.493576Z",
     "start_time": "2019-06-28T20:05:29.485578Z"
    }
   },
   "outputs": [
    {
     "data": {
      "text/plain": [
       "(1, Int64Index([ 1418,  2182,  2927,  3868,  5105,  9648,  9732,  9968, 10038,\n",
       "             10275, 10454, 10976, 11365, 11419, 11690, 11738, 11754, 11780,\n",
       "             11793, 11959, 12123, 13084, 13921, 14297, 14299, 14314, 14341,\n",
       "             14477, 14690, 14730, 15020, 15294, 17117],\n",
       "            dtype='int64'))"
      ]
     },
     "execution_count": 9,
     "metadata": {},
     "output_type": "execute_result"
    }
   ],
   "source": [
    "list(groups.items())[0]"
   ]
  },
  {
   "cell_type": "code",
   "execution_count": 10,
   "metadata": {
    "ExecuteTime": {
     "end_time": "2019-06-28T20:05:30.718219Z",
     "start_time": "2019-06-28T20:05:30.708221Z"
    }
   },
   "outputs": [
    {
     "data": {
      "text/plain": [
       "DB_ID               16355\n",
       "Name           BANKUNITED\n",
       "Blck_List               1\n",
       "token_count             1\n",
       "Name: 2182, dtype: object"
      ]
     },
     "execution_count": 10,
     "metadata": {},
     "output_type": "execute_result"
    }
   ],
   "source": [
    "ent_df_clean.loc[2182]"
   ]
  },
  {
   "cell_type": "code",
   "execution_count": 18,
   "metadata": {
    "ExecuteTime": {
     "end_time": "2019-06-28T20:23:57.811343Z",
     "start_time": "2019-06-28T20:23:57.609833Z"
    }
   },
   "outputs": [
    {
     "ename": "ModuleNotFoundError",
     "evalue": "No module named 'whoswho'",
     "output_type": "error",
     "traceback": [
      "\u001b[1;31m---------------------------------------------------------------------------\u001b[0m",
      "\u001b[1;31mModuleNotFoundError\u001b[0m                       Traceback (most recent call last)",
      "\u001b[1;32m<ipython-input-18-8f8540d9a556>\u001b[0m in \u001b[0;36m<module>\u001b[1;34m\u001b[0m\n\u001b[1;32m----> 1\u001b[1;33m \u001b[1;32mimport\u001b[0m \u001b[0mwhoswho\u001b[0m\u001b[1;33m\u001b[0m\u001b[1;33m\u001b[0m\u001b[0m\n\u001b[0m",
      "\u001b[1;31mModuleNotFoundError\u001b[0m: No module named 'whoswho'"
     ]
    }
   ],
   "source": [
    "import whoswho"
   ]
  },
  {
   "cell_type": "code",
   "execution_count": 14,
   "metadata": {
    "ExecuteTime": {
     "end_time": "2019-06-28T20:12:27.221563Z",
     "start_time": "2019-06-28T20:12:27.215580Z"
    }
   },
   "outputs": [],
   "source": [
    "\n",
    "def test_methods(s1, s2):\n",
    "    simple_ratio = fuzz.ratio(s1, s2)\n",
    "    partial_ratio = fuzz.partial_ratio(s1, s2)\n",
    "    token_sort_ratio = fuzz.token_sort_ratio(s1, s2)\n",
    "    token_set_ratio = fuzz.token_set_ratio(s1, s2)\n",
    "    print(f'simple: {simple_ratio} partial: {partial_ratio} token_sort: {token_sort_ratio}, token_set: {token_set_ratio}')"
   ]
  },
  {
   "cell_type": "code",
   "execution_count": 15,
   "metadata": {
    "ExecuteTime": {
     "end_time": "2019-06-28T20:12:41.726046Z",
     "start_time": "2019-06-28T20:12:41.722055Z"
    }
   },
   "outputs": [
    {
     "name": "stdout",
     "output_type": "stream",
     "text": [
      "simple: 96 partial: 91 token_sort: 96, token_set: 96\n"
     ]
    }
   ],
   "source": [
    "#same tokens simple mispelling\n",
    "test_methods('BARNES JAMES', 'BARNS JAMES')"
   ]
  },
  {
   "cell_type": "code",
   "execution_count": 17,
   "metadata": {
    "ExecuteTime": {
     "end_time": "2019-06-28T20:19:35.165846Z",
     "start_time": "2019-06-28T20:19:35.160850Z"
    }
   },
   "outputs": [
    {
     "name": "stdout",
     "output_type": "stream",
     "text": [
      "simple: 96 partial: 92 token_sort: 96, token_set: 96\n",
      "simple: 62 partial: 67 token_sort: 54, token_set: 74\n"
     ]
    }
   ],
   "source": [
    "#same tokens different spelling (nicknames/shorthand)\n",
    "test_methods('Albert Zuniga', 'Alberto Zuniga')\n",
    "test_methods('Robert Meuller', 'Bill Meuller')"
   ]
  },
  {
   "cell_type": "code",
   "execution_count": null,
   "metadata": {},
   "outputs": [],
   "source": []
  }
 ],
 "metadata": {
  "kernelspec": {
   "display_name": "Python 3",
   "language": "python",
   "name": "python3"
  },
  "language_info": {
   "codemirror_mode": {
    "name": "ipython",
    "version": 3
   },
   "file_extension": ".py",
   "mimetype": "text/x-python",
   "name": "python",
   "nbconvert_exporter": "python",
   "pygments_lexer": "ipython3",
   "version": "3.7.3"
  }
 },
 "nbformat": 4,
 "nbformat_minor": 2
}
