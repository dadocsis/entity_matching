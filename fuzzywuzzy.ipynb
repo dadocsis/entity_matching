{
 "cells": [
  {
   "cell_type": "code",
   "execution_count": 339,
   "metadata": {
    "ExecuteTime": {
     "end_time": "2019-06-28T20:05:21.735008Z",
     "start_time": "2019-06-28T20:05:19.716152Z"
    }
   },
   "outputs": [],
   "source": [
    "from fuzzywuzzy import fuzz\n",
    "import pandas as pd \n",
    "import numpy as np"
   ]
  },
  {
   "cell_type": "code",
   "execution_count": 2,
   "metadata": {
    "ExecuteTime": {
     "end_time": "2019-06-28T20:05:21.815594Z",
     "start_time": "2019-06-28T20:05:21.738574Z"
    }
   },
   "outputs": [
    {
     "data": {
      "text/html": [
       "<div>\n",
       "<style scoped>\n",
       "    .dataframe tbody tr th:only-of-type {\n",
       "        vertical-align: middle;\n",
       "    }\n",
       "\n",
       "    .dataframe tbody tr th {\n",
       "        vertical-align: top;\n",
       "    }\n",
       "\n",
       "    .dataframe thead th {\n",
       "        text-align: right;\n",
       "    }\n",
       "</style>\n",
       "<table border=\"1\" class=\"dataframe\">\n",
       "  <thead>\n",
       "    <tr style=\"text-align: right;\">\n",
       "      <th></th>\n",
       "      <th>DB_ID</th>\n",
       "      <th>Name</th>\n",
       "      <th>Blck_List</th>\n",
       "    </tr>\n",
       "  </thead>\n",
       "  <tbody>\n",
       "    <tr>\n",
       "      <th>0</th>\n",
       "      <td>14173</td>\n",
       "      <td>ALVAREZ CARLOS</td>\n",
       "      <td>0</td>\n",
       "    </tr>\n",
       "    <tr>\n",
       "      <th>1</th>\n",
       "      <td>14174</td>\n",
       "      <td>TARANTOLA SALVATORE</td>\n",
       "      <td>0</td>\n",
       "    </tr>\n",
       "    <tr>\n",
       "      <th>2</th>\n",
       "      <td>14175</td>\n",
       "      <td>HOME DEVCO TIVOLI ISLES LLC</td>\n",
       "      <td>1</td>\n",
       "    </tr>\n",
       "    <tr>\n",
       "      <th>3</th>\n",
       "      <td>14176</td>\n",
       "      <td>LEVIN MICHAEL</td>\n",
       "      <td>0</td>\n",
       "    </tr>\n",
       "    <tr>\n",
       "      <th>4</th>\n",
       "      <td>14177</td>\n",
       "      <td>ROSS NICHOLAS J</td>\n",
       "      <td>0</td>\n",
       "    </tr>\n",
       "  </tbody>\n",
       "</table>\n",
       "</div>"
      ],
      "text/plain": [
       "   DB_ID                         Name  Blck_List\n",
       "0  14173               ALVAREZ CARLOS          0\n",
       "1  14174          TARANTOLA SALVATORE          0\n",
       "2  14175  HOME DEVCO TIVOLI ISLES LLC          1\n",
       "3  14176                LEVIN MICHAEL          0\n",
       "4  14177              ROSS NICHOLAS J          0"
      ]
     },
     "execution_count": 2,
     "metadata": {},
     "output_type": "execute_result"
    }
   ],
   "source": [
    "ent_df = pd.read_csv('entity.csv')\n",
    "ent_df.head()"
   ]
  },
  {
   "cell_type": "markdown",
   "metadata": {
    "ExecuteTime": {
     "end_time": "2019-06-27T16:31:05.338048Z",
     "start_time": "2019-06-27T16:31:05.259500Z"
    }
   },
   "source": [
    "This code was used to find most commont word tokens.  \n",
    "I used this to build an ignore list where I am filtering out common  \n",
    "words to describe a business. IE  Corp, Inc, Co\n",
    "\n",
    "```python\n",
    "from collections import Counter\n",
    "ent_counter = Counter()\n",
    "for names in ent_df['Name'].str.split():\n",
    "    ent_counter.update(names)\n",
    "with open('common.csv', mode='w') as f:\n",
    "    print(\"Name, count\", file=f)\n",
    "    for c in  ent_counter.most_common(100):\n",
    "        print(f'{c[0]},{c[1]}', file=f)\n",
    "```"
   ]
  },
  {
   "cell_type": "code",
   "execution_count": 3,
   "metadata": {
    "ExecuteTime": {
     "end_time": "2019-06-28T20:05:24.790187Z",
     "start_time": "2019-06-28T20:05:24.780202Z"
    }
   },
   "outputs": [],
   "source": [
    "ignore = pd.read_csv('common.csv')\n",
    "ignore_list = ignore['Name'].to_list()"
   ]
  },
  {
   "cell_type": "code",
   "execution_count": 4,
   "metadata": {
    "ExecuteTime": {
     "end_time": "2019-06-28T20:05:25.734627Z",
     "start_time": "2019-06-28T20:05:25.683550Z"
    }
   },
   "outputs": [],
   "source": [
    "def clean(e):\n",
    "    return all([t not in ignore_list for t in e.split()])\n",
    "\n",
    "ent_df_clean = ent_df[ent_df['Name'].map(clean)].copy()\n",
    "# creating a new pf object not ref"
   ]
  },
  {
   "cell_type": "code",
   "execution_count": 5,
   "metadata": {
    "ExecuteTime": {
     "end_time": "2019-06-28T20:05:26.272516Z",
     "start_time": "2019-06-28T20:05:26.251516Z"
    }
   },
   "outputs": [
    {
     "name": "stdout",
     "output_type": "stream",
     "text": [
      "counts: original -> 17187 cleaned -> 13865\n"
     ]
    }
   ],
   "source": [
    "print(f'counts: original -> {len(ent_df)} cleaned -> {len(ent_df_clean)}')"
   ]
  },
  {
   "cell_type": "code",
   "execution_count": 6,
   "metadata": {
    "ExecuteTime": {
     "end_time": "2019-06-28T20:05:27.646654Z",
     "start_time": "2019-06-28T20:05:27.604656Z"
    }
   },
   "outputs": [
    {
     "data": {
      "text/html": [
       "<div>\n",
       "<style scoped>\n",
       "    .dataframe tbody tr th:only-of-type {\n",
       "        vertical-align: middle;\n",
       "    }\n",
       "\n",
       "    .dataframe tbody tr th {\n",
       "        vertical-align: top;\n",
       "    }\n",
       "\n",
       "    .dataframe thead th {\n",
       "        text-align: right;\n",
       "    }\n",
       "</style>\n",
       "<table border=\"1\" class=\"dataframe\">\n",
       "  <thead>\n",
       "    <tr style=\"text-align: right;\">\n",
       "      <th></th>\n",
       "      <th>DB_ID</th>\n",
       "      <th>Name</th>\n",
       "      <th>Blck_List</th>\n",
       "      <th>token_count</th>\n",
       "    </tr>\n",
       "  </thead>\n",
       "  <tbody>\n",
       "    <tr>\n",
       "      <th>0</th>\n",
       "      <td>14173</td>\n",
       "      <td>ALVAREZ CARLOS</td>\n",
       "      <td>0</td>\n",
       "      <td>2</td>\n",
       "    </tr>\n",
       "    <tr>\n",
       "      <th>1</th>\n",
       "      <td>14174</td>\n",
       "      <td>TARANTOLA SALVATORE</td>\n",
       "      <td>0</td>\n",
       "      <td>2</td>\n",
       "    </tr>\n",
       "    <tr>\n",
       "      <th>3</th>\n",
       "      <td>14176</td>\n",
       "      <td>LEVIN MICHAEL</td>\n",
       "      <td>0</td>\n",
       "      <td>2</td>\n",
       "    </tr>\n",
       "    <tr>\n",
       "      <th>4</th>\n",
       "      <td>14177</td>\n",
       "      <td>ROSS NICHOLAS J</td>\n",
       "      <td>0</td>\n",
       "      <td>3</td>\n",
       "    </tr>\n",
       "    <tr>\n",
       "      <th>5</th>\n",
       "      <td>14178</td>\n",
       "      <td>PISCATELLI ALAN</td>\n",
       "      <td>0</td>\n",
       "      <td>2</td>\n",
       "    </tr>\n",
       "    <tr>\n",
       "      <th>6</th>\n",
       "      <td>14179</td>\n",
       "      <td>SCHNEIDER ROBERT</td>\n",
       "      <td>0</td>\n",
       "      <td>2</td>\n",
       "    </tr>\n",
       "    <tr>\n",
       "      <th>7</th>\n",
       "      <td>14180</td>\n",
       "      <td>FOBBS RAMONA A</td>\n",
       "      <td>0</td>\n",
       "      <td>3</td>\n",
       "    </tr>\n",
       "    <tr>\n",
       "      <th>8</th>\n",
       "      <td>14181</td>\n",
       "      <td>KELLER FRED ESTATE,SHEPHERD DANIEL J PERSONAL ...</td>\n",
       "      <td>1</td>\n",
       "      <td>7</td>\n",
       "    </tr>\n",
       "    <tr>\n",
       "      <th>9</th>\n",
       "      <td>14182</td>\n",
       "      <td>SHEPHERD DANIEL J PERSONAL REPRESENTATIVE,KELL...</td>\n",
       "      <td>1</td>\n",
       "      <td>7</td>\n",
       "    </tr>\n",
       "    <tr>\n",
       "      <th>10</th>\n",
       "      <td>14183</td>\n",
       "      <td>MICHEL JEANTRAL</td>\n",
       "      <td>0</td>\n",
       "      <td>2</td>\n",
       "    </tr>\n",
       "  </tbody>\n",
       "</table>\n",
       "</div>"
      ],
      "text/plain": [
       "    DB_ID                                               Name  Blck_List  \\\n",
       "0   14173                                     ALVAREZ CARLOS          0   \n",
       "1   14174                                TARANTOLA SALVATORE          0   \n",
       "3   14176                                      LEVIN MICHAEL          0   \n",
       "4   14177                                    ROSS NICHOLAS J          0   \n",
       "5   14178                                    PISCATELLI ALAN          0   \n",
       "6   14179                                   SCHNEIDER ROBERT          0   \n",
       "7   14180                                     FOBBS RAMONA A          0   \n",
       "8   14181  KELLER FRED ESTATE,SHEPHERD DANIEL J PERSONAL ...          1   \n",
       "9   14182  SHEPHERD DANIEL J PERSONAL REPRESENTATIVE,KELL...          1   \n",
       "10  14183                                    MICHEL JEANTRAL          0   \n",
       "\n",
       "    token_count  \n",
       "0             2  \n",
       "1             2  \n",
       "3             2  \n",
       "4             3  \n",
       "5             2  \n",
       "6             2  \n",
       "7             3  \n",
       "8             7  \n",
       "9             7  \n",
       "10            2  "
      ]
     },
     "execution_count": 6,
     "metadata": {},
     "output_type": "execute_result"
    }
   ],
   "source": [
    "ent_df_clean['token_count'] = ent_df_clean['Name'].str.split().str.len()\n",
    "ent_df_clean.head(10)"
   ]
  },
  {
   "cell_type": "code",
   "execution_count": 7,
   "metadata": {
    "ExecuteTime": {
     "end_time": "2019-06-28T20:05:29.125860Z",
     "start_time": "2019-06-28T20:05:29.106859Z"
    }
   },
   "outputs": [],
   "source": [
    "groups = ent_df_clean.groupby('token_count').groups"
   ]
  },
  {
   "cell_type": "code",
   "execution_count": 9,
   "metadata": {
    "ExecuteTime": {
     "end_time": "2019-06-28T20:05:29.493576Z",
     "start_time": "2019-06-28T20:05:29.485578Z"
    }
   },
   "outputs": [
    {
     "data": {
      "text/plain": [
       "(1, Int64Index([ 1418,  2182,  2927,  3868,  5105,  9648,  9732,  9968, 10038,\n",
       "             10275, 10454, 10976, 11365, 11419, 11690, 11738, 11754, 11780,\n",
       "             11793, 11959, 12123, 13084, 13921, 14297, 14299, 14314, 14341,\n",
       "             14477, 14690, 14730, 15020, 15294, 17117],\n",
       "            dtype='int64'))"
      ]
     },
     "execution_count": 9,
     "metadata": {},
     "output_type": "execute_result"
    }
   ],
   "source": [
    "list(groups.items())[0]"
   ]
  },
  {
   "cell_type": "code",
   "execution_count": 10,
   "metadata": {
    "ExecuteTime": {
     "end_time": "2019-06-28T20:05:30.718219Z",
     "start_time": "2019-06-28T20:05:30.708221Z"
    }
   },
   "outputs": [
    {
     "data": {
      "text/plain": [
       "DB_ID               16355\n",
       "Name           BANKUNITED\n",
       "Blck_List               1\n",
       "token_count             1\n",
       "Name: 2182, dtype: object"
      ]
     },
     "execution_count": 10,
     "metadata": {},
     "output_type": "execute_result"
    }
   ],
   "source": [
    "ent_df_clean.loc[2182]"
   ]
  },
  {
   "cell_type": "code",
   "execution_count": 254,
   "metadata": {
    "ExecuteTime": {
     "end_time": "2019-06-28T20:12:27.221563Z",
     "start_time": "2019-06-28T20:12:27.215580Z"
    }
   },
   "outputs": [],
   "source": [
    "\n",
    "def test_methods(s):    \n",
    "    \n",
    "    results = []\n",
    "    for s1, s2 in s:\n",
    "        simple = fuzz.ratio(s1, s2)\n",
    "        partial = fuzz.partial_ratio(s1, s2)\n",
    "        token_sort = fuzz.token_sort_ratio(s1, s2)\n",
    "        token_set = fuzz.token_set_ratio(s1, s2)\n",
    "        results.append({'simple': simple, 'partial': partial, 'token_sort': token_sort, 'token_set': token_set})\n",
    "    \n",
    "    df = pd.DataFrame(results, columns=['simple', 'partial', 'token_sort', 'token_set'])\n",
    "#     df['simple_weighted'] = df['simple'] * 1\n",
    "#     df['partial_weighted'] = df['partial'] * (3/4)\n",
    "#     df['token_sort_weighted'] = df['token_sort'] * .5\n",
    "#     df['token_set_weighted'] = df['token_set'] * .25\n",
    "    df = df.append(df.sum().rank(ascending=False), ignore_index=True)\n",
    "    #return df\n",
    "    #print(df)\n",
    "    \n",
    "    #print(df)\n",
    "    ranks = pd.Series(df.tail(1).T.iloc[:,-1])\n",
    "    return ranks.sort_values()"
   ]
  },
  {
   "cell_type": "code",
   "execution_count": 255,
   "metadata": {
    "ExecuteTime": {
     "end_time": "2019-06-28T20:12:41.726046Z",
     "start_time": "2019-06-28T20:12:41.722055Z"
    }
   },
   "outputs": [
    {
     "data": {
      "text/plain": [
       "simple        2.0\n",
       "token_sort    2.0\n",
       "token_set     2.0\n",
       "partial       4.0\n",
       "Name: 1, dtype: float64"
      ]
     },
     "execution_count": 255,
     "metadata": {},
     "output_type": "execute_result"
    }
   ],
   "source": [
    "#same tokens simple mispelling\n",
    "test_methods([('BARNES JAMES', 'BARNS JAMES')])\n",
    "#simple"
   ]
  },
  {
   "cell_type": "code",
   "execution_count": 258,
   "metadata": {
    "ExecuteTime": {
     "end_time": "2019-06-28T20:19:35.165846Z",
     "start_time": "2019-06-28T20:19:35.160850Z"
    }
   },
   "outputs": [
    {
     "data": {
      "text/plain": [
       "simple        2.0\n",
       "token_sort    2.0\n",
       "token_set     2.0\n",
       "partial       4.0\n",
       "Name: 2, dtype: float64"
      ]
     },
     "execution_count": 258,
     "metadata": {},
     "output_type": "execute_result"
    }
   ],
   "source": [
    "#same tokens different spelling (nicknames/shorthand)\n",
    "test_methods([('Albert Zuniga', 'Alberto Zuniga'), ('Mary Smith', 'Marias Smith')])\n",
    "#use token_sort"
   ]
  },
  {
   "cell_type": "code",
   "execution_count": 259,
   "metadata": {},
   "outputs": [
    {
     "data": {
      "text/plain": [
       "token_sort    1.5\n",
       "token_set     1.5\n",
       "simple        3.5\n",
       "partial       3.5\n",
       "Name: 1, dtype: float64"
      ]
     },
     "execution_count": 259,
     "metadata": {},
     "output_type": "execute_result"
    }
   ],
   "source": [
    "#tokens different position\n",
    "test_methods([('Albert Zuniga', 'Zuniga Albert')])\n",
    "# token sort"
   ]
  },
  {
   "cell_type": "code",
   "execution_count": 260,
   "metadata": {},
   "outputs": [
    {
     "data": {
      "text/plain": [
       "token_set     1.0\n",
       "simple        2.5\n",
       "token_sort    2.5\n",
       "partial       4.0\n",
       "Name: 2, dtype: float64"
      ]
     },
     "execution_count": 260,
     "metadata": {},
     "output_type": "execute_result"
    }
   ],
   "source": [
    "#different tokens\n",
    "test_methods([('Albert Zuniga', 'Albert L Zuniga'),('Alberto Zuniga', 'Alberto L Zuniga JR')])"
   ]
  },
  {
   "cell_type": "code",
   "execution_count": 261,
   "metadata": {},
   "outputs": [
    {
     "data": {
      "text/plain": [
       "partial       1.0\n",
       "simple        3.0\n",
       "token_sort    3.0\n",
       "token_set     3.0\n",
       "Name: 2, dtype: float64"
      ]
     },
     "execution_count": 261,
     "metadata": {},
     "output_type": "execute_result"
    }
   ],
   "source": [
    "#different tokens mispelled\n",
    "test_methods([('Albert Zunigga', 'Albert L Zuniga'), ('Alberto L Zunniga', 'Alberto L Zuniga JR')])"
   ]
  },
  {
   "cell_type": "code",
   "execution_count": 295,
   "metadata": {},
   "outputs": [],
   "source": [
    "# find same tokens simple mispelling\n",
    "def join_first(tokens):\n",
    "    return ''.join([s[0] for s in tokens])\n",
    "ent_df_clean['grp_1'] = ent_df_clean.Name.str.split().apply(join_first)\n",
    "#ent_df_clean = ent_df_clean.drop('grp_2', axis=1)"
   ]
  },
  {
   "cell_type": "code",
   "execution_count": 337,
   "metadata": {},
   "outputs": [],
   "source": [
    "grps_simple = ent_df_clean.groupby('grp_1')\n",
    "grp_1 = grps_simple.filter(lambda x: x['grp_1'].count() > 1)['grp_1'].unique()\n",
    "# for grp in grps_simple:\n",
    "#     if grp[1].size > 1:\n",
    "#         print(grp[0])"
   ]
  },
  {
   "cell_type": "code",
   "execution_count": 338,
   "metadata": {},
   "outputs": [
    {
     "data": {
      "text/plain": [
       "array(['AC', 'TS', 'LM', ..., 'MWP', 'CJF', 'JMT'], dtype=object)"
      ]
     },
     "execution_count": 338,
     "metadata": {},
     "output_type": "execute_result"
    }
   ],
   "source": [
    "grp_1"
   ]
  },
  {
   "cell_type": "code",
   "execution_count": 341,
   "metadata": {},
   "outputs": [],
   "source": [
    "ent_df_clean['alias_match'], ent_df_clean['score'] = np.nan, np.nan"
   ]
  },
  {
   "cell_type": "code",
   "execution_count": null,
   "metadata": {},
   "outputs": [
    {
     "name": "stderr",
     "output_type": "stream",
     "text": [
      "C:\\Users\\Al\\Anaconda3\\lib\\site-packages\\pandas\\core\\indexing.py:190: SettingWithCopyWarning: \n",
      "A value is trying to be set on a copy of a slice from a DataFrame\n",
      "\n",
      "See the caveats in the documentation: http://pandas.pydata.org/pandas-docs/stable/indexing.html#indexing-view-versus-copy\n",
      "  self._setitem_with_indexer(indexer, value)\n",
      "C:\\Users\\Al\\Anaconda3\\lib\\site-packages\\pandas\\core\\indexing.py:190: SettingWithCopyWarning: \n",
      "A value is trying to be set on a copy of a slice from a DataFrame\n",
      "\n",
      "See the caveats in the documentation: http://pandas.pydata.org/pandas-docs/stable/indexing.html#indexing-view-versus-copy\n",
      "  self._setitem_with_indexer(indexer, value)\n",
      "C:\\Users\\Al\\Anaconda3\\lib\\site-packages\\pandas\\core\\indexing.py:190: SettingWithCopyWarning: \n",
      "A value is trying to be set on a copy of a slice from a DataFrame\n",
      "\n",
      "See the caveats in the documentation: http://pandas.pydata.org/pandas-docs/stable/indexing.html#indexing-view-versus-copy\n",
      "  self._setitem_with_indexer(indexer, value)\n",
      "C:\\Users\\Al\\Anaconda3\\lib\\site-packages\\pandas\\core\\indexing.py:190: SettingWithCopyWarning: \n",
      "A value is trying to be set on a copy of a slice from a DataFrame\n",
      "\n",
      "See the caveats in the documentation: http://pandas.pydata.org/pandas-docs/stable/indexing.html#indexing-view-versus-copy\n",
      "  self._setitem_with_indexer(indexer, value)\n",
      "C:\\Users\\Al\\Anaconda3\\lib\\site-packages\\pandas\\core\\indexing.py:190: SettingWithCopyWarning: \n",
      "A value is trying to be set on a copy of a slice from a DataFrame\n",
      "\n",
      "See the caveats in the documentation: http://pandas.pydata.org/pandas-docs/stable/indexing.html#indexing-view-versus-copy\n",
      "  self._setitem_with_indexer(indexer, value)\n"
     ]
    }
   ],
   "source": [
    " for group_name in grp_1:\n",
    "    this_group = grps_simple.get_group('AC').sort_values('Name')\n",
    "    for lidx in this_group.index:\n",
    "        for ridx in this_group.index:\n",
    "            if lidx == ridx: \n",
    "                continue\n",
    "            if pd.isna(this_group['alias_match'].loc[lidx]):\n",
    "                this_group['alias_match'].loc[lidx] = this_group['Name'].loc[lidx]\n",
    "                this_group['score'].loc[lidx] = 110\n",
    "            if pd.isna(this_group['alias_match'].loc[ridx]):\n",
    "                score = fuzz.ratio(this_group['Name'].loc[lidx], this_group['Name'].loc[ridx])\n",
    "                if score > 85:\n",
    "                    this_group['alias_match'].loc[ridx] = this_group['Name'].loc[lidx]\n",
    "                    this_group['score'].loc[ridx] = score\n",
    "\n"
   ]
  },
  {
   "cell_type": "code",
   "execution_count": null,
   "metadata": {},
   "outputs": [],
   "source": []
  }
 ],
 "metadata": {
  "kernelspec": {
   "display_name": "Python 3",
   "language": "python",
   "name": "python3"
  },
  "language_info": {
   "codemirror_mode": {
    "name": "ipython",
    "version": 3
   },
   "file_extension": ".py",
   "mimetype": "text/x-python",
   "name": "python",
   "nbconvert_exporter": "python",
   "pygments_lexer": "ipython3",
   "version": "3.7.3"
  }
 },
 "nbformat": 4,
 "nbformat_minor": 2
}
