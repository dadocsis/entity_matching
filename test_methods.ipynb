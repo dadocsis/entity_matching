{
 "cells": [
  {
   "cell_type": "code",
   "execution_count": 1,
   "metadata": {
    "ExecuteTime": {
     "end_time": "2019-07-01T14:55:07.425637Z",
     "start_time": "2019-07-01T14:55:06.674602Z"
    }
   },
   "outputs": [],
   "source": [
    "from fuzzywuzzy import fuzz\n",
    "import pandas as pd \n",
    "import numpy as np\n"
   ]
  },
  {
   "cell_type": "code",
   "execution_count": 2,
   "metadata": {
    "ExecuteTime": {
     "end_time": "2019-07-01T14:55:17.970925Z",
     "start_time": "2019-07-01T14:55:17.960923Z"
    }
   },
   "outputs": [],
   "source": [
    "def test_methods(s):    \n",
    "    results = []\n",
    "    for s1, s2 in s:\n",
    "        simple = fuzz.ratio(s1, s2)\n",
    "        partial = fuzz.partial_ratio(s1, s2)\n",
    "        token_sort = fuzz.token_sort_ratio(s1, s2)\n",
    "        token_set = fuzz.token_set_ratio(s1, s2)\n",
    "        results.append({'simple': simple, 'partial': partial, 'token_sort': token_sort, 'token_set': token_set})\n",
    "    \n",
    "    df = pd.DataFrame(results, columns=['simple', 'partial', 'token_sort', 'token_set'])\n",
    "    df = df.append(df.sum().rank(ascending=False), ignore_index=True)    \n",
    "    ranks = pd.Series(df.tail(1).T.iloc[:,-1])\n",
    "    return ranks.sort_values()"
   ]
  },
  {
   "cell_type": "code",
   "execution_count": 3,
   "metadata": {
    "ExecuteTime": {
     "end_time": "2019-07-01T14:55:25.667333Z",
     "start_time": "2019-07-01T14:55:25.641334Z"
    }
   },
   "outputs": [
    {
     "data": {
      "text/plain": [
       "simple        2.0\n",
       "token_sort    2.0\n",
       "token_set     2.0\n",
       "partial       4.0\n",
       "Name: 1, dtype: float64"
      ]
     },
     "execution_count": 3,
     "metadata": {},
     "output_type": "execute_result"
    }
   ],
   "source": [
    "#same tokens simple mispelling\n",
    "test_methods([('BARNES JAMES', 'BARNS JAMES')])\n",
    "#simple"
   ]
  },
  {
   "cell_type": "code",
   "execution_count": 4,
   "metadata": {
    "ExecuteTime": {
     "end_time": "2019-07-01T14:55:32.498429Z",
     "start_time": "2019-07-01T14:55:32.481414Z"
    }
   },
   "outputs": [
    {
     "data": {
      "text/plain": [
       "simple        2.0\n",
       "token_sort    2.0\n",
       "token_set     2.0\n",
       "partial       4.0\n",
       "Name: 2, dtype: float64"
      ]
     },
     "execution_count": 4,
     "metadata": {},
     "output_type": "execute_result"
    }
   ],
   "source": [
    "#same tokens different spelling (nicknames/shorthand)\n",
    "test_methods([('Albert Zuniga', 'Alberto Zuniga'), ('Mary Smith', 'Marias Smith')])\n",
    "#use token_sort"
   ]
  },
  {
   "cell_type": "code",
   "execution_count": 5,
   "metadata": {
    "ExecuteTime": {
     "end_time": "2019-07-01T14:55:46.094328Z",
     "start_time": "2019-07-01T14:55:46.081345Z"
    }
   },
   "outputs": [
    {
     "data": {
      "text/plain": [
       "token_sort    1.5\n",
       "token_set     1.5\n",
       "simple        3.5\n",
       "partial       3.5\n",
       "Name: 1, dtype: float64"
      ]
     },
     "execution_count": 5,
     "metadata": {},
     "output_type": "execute_result"
    }
   ],
   "source": [
    "#tokens different position\n",
    "test_methods([('Albert Zuniga', 'Zuniga Albert')])\n",
    "# token sort"
   ]
  },
  {
   "cell_type": "code",
   "execution_count": 6,
   "metadata": {
    "ExecuteTime": {
     "end_time": "2019-07-01T14:55:55.469520Z",
     "start_time": "2019-07-01T14:55:55.457522Z"
    }
   },
   "outputs": [
    {
     "data": {
      "text/plain": [
       "token_set     1.0\n",
       "simple        2.5\n",
       "token_sort    2.5\n",
       "partial       4.0\n",
       "Name: 2, dtype: float64"
      ]
     },
     "execution_count": 6,
     "metadata": {},
     "output_type": "execute_result"
    }
   ],
   "source": [
    "#different tokens\n",
    "test_methods([('Albert Zuniga', 'Albert L Zuniga'),('Alberto Zuniga', 'Alberto L Zuniga JR')])"
   ]
  },
  {
   "cell_type": "code",
   "execution_count": 7,
   "metadata": {
    "ExecuteTime": {
     "end_time": "2019-07-01T14:56:02.384445Z",
     "start_time": "2019-07-01T14:56:02.371449Z"
    }
   },
   "outputs": [
    {
     "data": {
      "text/plain": [
       "partial       1.0\n",
       "simple        3.0\n",
       "token_sort    3.0\n",
       "token_set     3.0\n",
       "Name: 2, dtype: float64"
      ]
     },
     "execution_count": 7,
     "metadata": {},
     "output_type": "execute_result"
    }
   ],
   "source": [
    "#different tokens mispelled\n",
    "test_methods([('Albert Zunigga', 'Albert L Zuniga'), ('Alberto L Zunniga', 'Alberto L Zuniga JR')])"
   ]
  },
  {
   "cell_type": "code",
   "execution_count": null,
   "metadata": {},
   "outputs": [],
   "source": []
  }
 ],
 "metadata": {
  "kernelspec": {
   "display_name": "Python 3",
   "language": "python",
   "name": "python3"
  },
  "language_info": {
   "codemirror_mode": {
    "name": "ipython",
    "version": 3
   },
   "file_extension": ".py",
   "mimetype": "text/x-python",
   "name": "python",
   "nbconvert_exporter": "python",
   "pygments_lexer": "ipython3",
   "version": "3.7.3"
  }
 },
 "nbformat": 4,
 "nbformat_minor": 2
}
